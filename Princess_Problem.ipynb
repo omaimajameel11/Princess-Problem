{
  "nbformat": 4,
  "nbformat_minor": 0,
  "metadata": {
    "colab": {
      "provenance": [],
      "authorship_tag": "ABX9TyNDu0X8WjFvsxDSaXz+jnUw",
      "include_colab_link": true
    },
    "kernelspec": {
      "name": "python3",
      "display_name": "Python 3"
    },
    "language_info": {
      "name": "python"
    }
  },
  "cells": [
    {
      "cell_type": "markdown",
      "metadata": {
        "id": "view-in-github",
        "colab_type": "text"
      },
      "source": [
        "<a href=\"https://colab.research.google.com/github/omaimajameel11/Princess-Problem/blob/main/Princess_Problem.ipynb\" target=\"_parent\"><img src=\"https://colab.research.google.com/assets/colab-badge.svg\" alt=\"Open In Colab\"/></a>"
      ]
    },
    {
      "cell_type": "code",
      "execution_count": null,
      "metadata": {
        "colab": {
          "base_uri": "https://localhost:8080/"
        },
        "id": "ygarQ-hchHuf",
        "outputId": "3aaaedf0-4e87-49aa-983d-5b8916452d29"
      },
      "outputs": [
        {
          "output_type": "stream",
          "name": "stdout",
          "text": [
            "3\n",
            "---\n",
            "-m-\n",
            "p--\n",
            "DOWN\n",
            "LEFT\n"
          ]
        }
      ],
      "source": [
        "# Function to display path from bot 'm' to princess 'p'\n",
        "def display_path_to_princess(N, grid):\n",
        "    # Step 1: Find coordinates of 'm' and 'p'\n",
        "    bot_x = bot_y = princess_x = princess_y = None\n",
        "\n",
        "    for i in range(N):\n",
        "        for j in range(N):\n",
        "            if grid[i][j] == 'm':\n",
        "                bot_x, bot_y = i, j\n",
        "            elif grid[i][j] == 'p':\n",
        "                princess_x, princess_y = i, j\n",
        "\n",
        "    # Step 2: Move vertically\n",
        "    while bot_x > princess_x:\n",
        "        print(\"UP\")\n",
        "        bot_x -= 1\n",
        "    while bot_x < princess_x:\n",
        "        print(\"DOWN\")\n",
        "        bot_x += 1\n",
        "\n",
        "    # Step 3: Move horizontally\n",
        "    while bot_y > princess_y:\n",
        "        print(\"LEFT\")\n",
        "        bot_y -= 1\n",
        "    while bot_y < princess_y:\n",
        "        print(\"RIGHT\")\n",
        "        bot_y += 1\n",
        "\n",
        "\n",
        "# ---------------- Main Program ----------------\n",
        "if __name__ == \"__main__\":\n",
        "    # Read input\n",
        "    N = int(input().strip())\n",
        "    grid = [input().strip() for _ in range(N)]\n",
        "\n",
        "    # Call function\n",
        "    display_path_to_princess(N, grid)\n"
      ]
    },
    {
      "cell_type": "code",
      "source": [
        "# Define a Node class for Linked List\n",
        "class Node:\n",
        "    def __init__(self, data):\n",
        "        self.data = data   # store data\n",
        "        self.next = None   # initially, next is None\n",
        "\n",
        "\n",
        "# Function to print the linked list\n",
        "def print_linked_list(head):\n",
        "    current = head\n",
        "    while current is not None:\n",
        "        print(current.data, end=\" -> \")\n",
        "        current = current.next\n",
        "    print(\"None\")  # end of list\n",
        "\n",
        "\n",
        "# ---------------- Main Program ----------------\n",
        "if __name__ == \"__main__\":\n",
        "    # Create nodes\n",
        "    node1 = Node(10)\n",
        "    node2 = Node(20)\n",
        "    node3 = Node(30)\n",
        "\n",
        "    # Link nodes\n",
        "    node1.next = node2\n",
        "    node2.next = node3\n",
        "\n",
        "    # node1 is the head of the list\n",
        "    head = node1\n",
        "\n",
        "    print(\"Linked List:\")\n",
        "    print_linked_list(head)\n"
      ],
      "metadata": {
        "colab": {
          "base_uri": "https://localhost:8080/"
        },
        "id": "DrcyKIXDM5_z",
        "outputId": "ca932320-a06c-478e-bf38-b38b5d1df38c"
      },
      "execution_count": null,
      "outputs": [
        {
          "output_type": "stream",
          "name": "stdout",
          "text": [
            "Linked List:\n",
            "10 -> 20 -> 30 -> None\n"
          ]
        }
      ]
    }
  ]
}